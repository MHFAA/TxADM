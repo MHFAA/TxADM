{
 "cells": [
  {
   "cell_type": "markdown",
   "source": [
    "# El entorno de R"
   ],
   "metadata": {
    "collapsed": false
   }
  },
  {
   "cell_type": "markdown",
   "source": [
    "**R** es un entorno de programación para el análisis estadístico de datos muy usado en la academia con una gran base de usuarios. Su uso tiene muchas ventajas, para empezar, es software libre. La elección de software libre es, en general, acertada por varios motivos: por un lado, transmite valores socialmente positivos, como por ejemplo la libertad individual, el conocimiento compartido, la solidaridad y la cooperación; por otro, nos aproxima al método científico, porque permite el examen y mejora del código desarrollado por otros usuarios y la reproducibilidad de los resultados obtenidos; finalmente, pero no menos importante desde un punto de vista práctico, podemos adquirir de manera legal y gratuita copias del programa, sin necesidad de licencias personales o académicas.\n",
    "\n",
    "Aparte de su faceta de software libre, **R** tiene algunas ventajas específicas: por ejemplo, su sintaxis básica es sencilla e intuitiva, con la que es muy fácil familiarizarse, lo que se traduce en un aprendizaje rápido y cómodo; además, tiene una enorme comunidad de usuarios, estructurada alrededor de la Comprehensive R Archive Network (CRAN) que desarrolla cada día nuevos paquetes que extienden sus funcionalidades y cubren casi todas las necesidades computacionales y estadísticas de un científico, ingeniero o analista de datos.\n",
    "\n"
   ],
   "metadata": {
    "collapsed": false
   }
  },
  {
   "cell_type": "markdown",
   "source": [
    "## Instalación de R\n",
    "\n",
    "Instalar **R** es muy sencillo, pero dependiendo del Sistema Operativo que tengamos deberemos realizar distintos pasos.\n",
    "\n",
    "Los pasos a realizar en Windows o Mac OS X para instalar su última versión son los siguientes. En primer lugar, accederemos a la página web de la CRAN: [https://cran.r-project.org/](https://cran.r-project.org/) y descargaremos la versión correspondiente a nuestro sistema operativo:\n",
    "\n",
    "- Usuarios de **Windows**: entrad en el enlace _base_, descargad **R** y seguid las instrucciones de instalación del documento _Install R for the first time_ que encontraréis en esa misma página.\n",
    "- Usuarios de **Mac OS X**: descargad el fichero .pkg correspondiente y, una vez descargado, abridlo y seguid las instrucciones del Asistente de Instalación.\n",
    "- Usuarios de **Ubuntu o Debian**, para instalar la última versión de R basta que ejecutéis en una terminal, estando conectados a Internet, la siguiente instrucción: `sudo apt install r-base`.\n"
   ],
   "metadata": {
    "collapsed": false
   }
  },
  {
   "cell_type": "markdown",
   "source": [
    "## RStudio\n",
    "\n",
    "Una vez instalado **R** nos tocará instalar **RStudio**, un entorno de desarrollo integrado (*IDE*) que usaremos como interfaz gráfica para la interacción con **R**. Está disponible para todos los sistemas operativos. Este entorno dispone de un amplio conjunto de herramientas que facilitan el trabajo con este lenguaje. Para instalarlo, se ha de descargar la versión __RStudio Desktop__ desde el siguiente enlace: [https://www.rstudio.com/products/rstudio/download/](https://www.rstudio.com/products/rstudio/download/).\n",
    "\n",
    "Conviene recordar que **RStudio** no es **R**, ni tan solo lo contiene: hay que instalar ambos programas. De hecho, las instalaciones de ambos son independientes una de la otra, de manera que cuando se actualiza uno de estos programas, no se modifica el otro.\n",
    "\n"
   ],
   "metadata": {
    "collapsed": false
   }
  },
  {
   "cell_type": "markdown",
   "source": [
    "### La terminal\n",
    "\n",
    "La terminal (también conocida como consola) es una forma generalizada de llamar a la interfaz de usuario de línea de comandos: una pantalla donde escribiendo comandos (secuencias de palabras en lenguaje **R**) podemos ordenar al sistema que realice acciones concretas.\n",
    "\n",
    "Por defecto, la consola se encuentra en el panel inferior-izquierdo. ¿Vemos la pestaña que pone Console? Inmediatamente debajo aparece un texto informativo y, finalmente, el símbolo _>_. Aquí es donde **R** espera que le demos instrucciones. Para ejecutarlas y obtener el resultado pulsamos la tecla _enter_.\n",
    "\n",
    "Cuando usemos RStudio de manera interactiva lo haremos de la siguiente manera:\n",
    "\n",
    "1. Escribiremos una instrucción en la consola, a la derecha de la marca de inicio de su última línea.\n",
    "2. La ejecutaremos pulsando la tecla _enter_.\n",
    "3. R la evaluará y, si corresponde, escribirá el resultado en la línea siguiente de la consola.\n",
    "4. R abrirá una nueva línea.\n",
    "\n",
    "A continuación tenemos un ejemplo del flujo anteriormente explicado:\n",
    "\n",
    "```R\n",
    "> 1+1\n",
    "[1] 2\n",
    ">\n",
    "```\n",
    "\n",
    "Para facilitarnos el trabajo, la consola dispone de un mecanismo para acceder a las instrucciones ya ejecutadas y modificarlas si queremos. Si situamos el cursor a la derecha de la marca de inicio de la línea inferior y pulsamos la tecla de la flecha vertical ascendente ↑, iremos obteniendo de manera consecutiva, en esa línea, las instrucciones escritas hasta el momento en la misma sesión; si nos pasamos, podemos usar la tecla ↓ para retroceder dentro de esta lista; una vez alcanzada la instrucción deseada, podemos volver a ejecutarla o, con las teclas de flechas horizontales, ir al lugar de la instrucción que queramos y reescribir un trozo antes de ejecutarla."
   ],
   "metadata": {
    "collapsed": false
   }
  },
  {
   "cell_type": "markdown",
   "source": [
    "### Cómo guardar el trabajo realizado\n",
    "\n",
    "Antes de empezar a utilizar **R** , lo primero que tenemos que hacer es crear en nuestro ordenador una carpeta específica que será la carpeta de trabajo con **R**. A continuación, en las Preferencias de RStudio, que podréis abrir desde el menú, tenéis que declarar esta carpeta como _Default working directory_. A partir de este momento, por defecto, todo el trabajo que realizemos quedará guardado dentro de esta carpeta, además RStudio buscará dentro de esta carpeta todo lo que queráis que lea. Si en un momento determinado queremos cambiar temporalmente de carpeta de trabajo, tenéis dos opciones:\n",
    "\n",
    "- Podéis usar el menú _Session_ → _Set Working Directory_ → _Choose Directory_ . . .  para escoger una carpeta.\n",
    "- Podéis abrir la pestaña _Files_ de la ventana inferior derecha y navegar por el árbol de directorios que aparece en su barra superior hasta llegar a la carpeta deseada.\n",
    "\n",
    "Tanto de una manera como de la otra, la carpeta que especifiquéis será la carpeta de trabajo durante lo que queda de sesión o hasta que la volváis a cambiar. En cualquier momento podéis guardar la sesión en la que estéis trabajando usando el menú _Session → Save Workspace as. . ._ . Además, si no habéis modificado esta opción en las Preferencias, cuando cerréis RStudio se os pedirá si queréis guardar la sesión; si contestáis que sí, RStudio guardará en la carpeta de trabajo dos ficheros, _.RData_ y _.RHistory_, que se cargarán automáticamente al volver a abrir RStudio y estaréis exactamente donde lo habíais dejado.\n",
    "\n",
    "Cabe mencionar que normalmente, no nos interesará arrastrar todo lo que hayamos hecho en sesiones anteriores. Si queremos guardar algunas definiciones e instrucciones de una sesión, lo más práctico es guardarlas en un _script_ (fichero de código).\n",
    "\n",
    "Los gráficos que generemos con RStudio aparecerán en la ventana inferior derecha, en la pestaña _Plots_ que se activa automáticamente cuando se crea alguno. Para guardar un gráfico, hay que ir al menú _Export_ de esta ventana y seleccionar cómo queréis guardarlo: como una imagen en uno los formatos estándares de imágenes (.png, .jpeg, .tiff, etc.) o en formato PDF. Entonces, se abrirá una ventana donde podéis darle nombre, modificar sus dimensiones y especificar el directorio donde queráis que se guarde, entre otras opciones."
   ],
   "metadata": {
    "collapsed": false
   }
  },
  {
   "cell_type": "markdown",
   "source": [
    "### Scripts\n",
    "\n",
    "Todos los lenguajes de programación permiten crear y usar ficheros que contienen instrucciones / código que se pueden ejecutar y guardar llamados _scripts_. Estos _scripts_ son una alternativa muy cómoda a las sesiones interactivas de trabajo con el terminal, porque permiten guardar las versiones finales de las instrucciones usadas, y no toda la sesión con pruebas, errores y resultados provisionales, y facilitan la ejecución de secuencias de instrucciones en un solo paso.\n",
    "\n",
    "Además, un _script_ se puede guardar, volver a abrir más adelante, editar, etc. Para crear un _script_ con **RStudio**, tenéis que ir al menú _File → New File → R Script_. Veréis que os aparece una ventana nueva en la parte superior izquierda de la ventana de RStudio, sobre la consola: la llamaremos ventana de ficheros. En ella podéis escribir, línea a línea, las instrucciones que queráis. Para ejecutar algunas instrucciones, basta que las seleccionéis y pulséis el botón _Run_ que aparece en la barra superior de esta ventana.\n",
    "\n",
    "Para guardar un _script_, basta pulsar el botón con el icono de un disquete de ordenador que aparece en la barra superior de su ventana. Otra posibilidad es usar el menú _File → Save_, o pulsar la combinación de teclas usual para guardar un fichero en vuestro sistema operativo, siempre y cuando la ventana activa de RStudio (donde esté el cursor en ese momento) sea la del _script_. Si guardamos un _script_ concreto por primera vez, se abre una ventana de diálogo donde RStudio espera que le demos un nombre; para los _scripts_ la costumbre es usar la extensión _.R_. Podéis abrir un _script_ ya preexistente con RStudio usando el menú _File → Open File_ de RStudio o pulsando sobre él en la pestaña _Files_. También podéis arrastrar el icono del _script_ sobre el de **RStudio** o simplemente abrir el fichero de la manera usual en vuestro sistema operativo.\n",
    "\n",
    "En los _scripts_, podemos usar el carácter _#_ sirve para indicar a **R** que omita todo lo que hay a su derecha en la misma línea, lo que permite añadir comentarios a un _script_."
   ],
   "metadata": {
    "collapsed": false
   }
  },
  {
   "cell_type": "markdown",
   "source": [
    "### Instalar y usar librerias\n",
    "\n",
    "La instalación que hemos realizado de **R**  nos proporciona un sistema base, pero para extender su funcionalidad es necesario instalar paquetes adicionales.\n",
    "\n",
    "Podemos instalar paquetes de varias formas:\n",
    "\n",
    "- A través del menú: _Tools > Install packages…_\n",
    "- En el escritorio de **RStudio**: _Packages/Install_. Vemos los paquetes que tenemos actualmente instalados y aquellos que se encuentran cargados.\n",
    "- Utilizando la función ```install.packages()``` en la terminal o en un _script_. El nombre del paquete que queremos instalar debe ir entre comillas, por ejemplo: ```install.packages(\"ggplot2\")```"
   ],
   "metadata": {
    "collapsed": false
   }
  }
 ],
 "metadata": {
  "kernelspec": {
   "display_name": "Python 3",
   "language": "python",
   "name": "python3"
  },
  "language_info": {
   "codemirror_mode": {
    "name": "ipython",
    "version": 2
   },
   "file_extension": ".py",
   "mimetype": "text/x-python",
   "name": "python",
   "nbconvert_exporter": "python",
   "pygments_lexer": "ipython2",
   "version": "2.7.6"
  }
 },
 "nbformat": 4,
 "nbformat_minor": 0
}
