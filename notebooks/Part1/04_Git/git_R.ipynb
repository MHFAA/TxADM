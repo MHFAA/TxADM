{
 "cells": [
  {
   "cell_type": "markdown",
   "source": [
    "# Git R\n",
    "\n",
    "_Git_ es un sistema de control de versiones. Su propósito original era ayudar a grupos de desarrolladores a trabajar de forma colaborativa en grandes proyectos de software. Git administra la evolución de un conjunto de archivos, llamado repositorio, de una manera consistente y altamente estructurada. Nos los podemos imaginar como una evolución de las funciones de _Control de cambios_ de programas de edición de texto como Microsoft Word.\n",
    "\n",
    "_Git_ ha sido rediseñado y repensado por la comunidad de prorgramadores. Además de usarlo para la gestión del código fuente, también los podremos usar para administrar la variada colección de archivos que conforman los proyectos típicos de análisis de datos, que a menudo consisten en datos, cifras, informes y código fuente.\n",
    "\n",
    "Aunque como hemos comentado anteriormente está pensado para el trabajo en equipo, un analista de datos en solitario, que trabaja en una sola computadora, también puede conseguir beneficios de la adopción del control de versiones.\n",
    "\n",
    "## Github\n",
    "\n",
    "[_Github_](https://github.com/) es un sitio web que almacena todo el historial de cambios de cada uno de nuestros archivos versionados como un único archivo, pero también nos permite interactuar con los archivos de otras personas y tiene herramientas de administración para el lado más social de los proyectos de _software_. Además, tiene diversas características que facilitan la visualización de las diferencias entre imágenes, renderizar y diferenciar archivos de datos de mapas, renderizar archivos de datos de texto y rastrear cambios en el texto.\n",
    "\n",
    "Por lo tanto, la idea de esta lección es aprender y practicar con las características y la terminología básicas de GitHub para poder gestionar nuestros pequeños proyectos.\n",
    "\n",
    "## Recursos\n",
    "\n",
    "A continuación encontraremos una serie de recursos que nos servirán para aprender los conceptos más básicos del uso de git desde RStudio.\n",
    "\n",
    "**Tutoriales**\n",
    "\n",
    "- Github Quickstart for Scientists ([enlace](https://rawgit.com/nazrug/Quickstart/master/GithubQuickstart.html)) Tutorial básico para empezar.\n",
    "- Happy Git and GitHub for the useR ([enlace](https://happygitwithr.com/index.html)) Tutorial avanzado.\n",
    "- Creación de tokens personales ([enlace](https://happygitwithr.com/https-pat.html)) Parte del tutorial anterior, nos será necesario para poder enviar información a github desde nuestro ordenador.\n",
    "\n",
    "**Lecturas**\n",
    "\n",
    "- Excuse me, do you have a moment to talk about version control? ([enlace](https://peerj.com/preprints/3159/)) Lectura recomendable.\n",
    "\n",
    "\n",
    "## Proyectos\n",
    "\n",
    "*Proyecto 1*\n",
    "\n",
    "1. Crear un nuevo repositorio para nuestro trabajo en **R**.\n",
    "2. Crear un nuevo proyecto en *RStudio* que conecte con el repositorio que habéis creado.\n",
    "3. Añadir los _scripts_ de *R* que habéis hecho hasta el momento y actualizar el repositorio de _github_ realizando vuestro primer `commit` y vuestro primer `push`.\n",
    "\n",
    "\n",
    "*Proyecto 2*\n",
    "1. Clonar el repositorio\n",
    "\n",
    "2. Fer uns exercicis d'allà i fer un push-\n",
    "\n",
    "\n",
    "\n"
   ],
   "metadata": {
    "collapsed": false,
    "pycharm": {
     "name": "#%% md\n"
    }
   }
  }
 ],
 "metadata": {
  "kernelspec": {
   "display_name": "Python 3",
   "language": "python",
   "name": "python3"
  },
  "language_info": {
   "codemirror_mode": {
    "name": "ipython",
    "version": 2
   },
   "file_extension": ".py",
   "mimetype": "text/x-python",
   "name": "python",
   "nbconvert_exporter": "python",
   "pygments_lexer": "ipython2",
   "version": "2.7.6"
  }
 },
 "nbformat": 4,
 "nbformat_minor": 0
}