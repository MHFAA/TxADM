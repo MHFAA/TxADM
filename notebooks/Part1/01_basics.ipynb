{
 "cells": [
  {
   "cell_type": "markdown",
   "metadata": {},
   "source": [
    "# Introducción\n",
    "\n",
    "Los dos conceptos que definen esta asignatura son: Datos y Tecnología. En esta primera sección vamos a explorarlos con un poco más de profundidad.\n",
    "\n",
    "## Datos\n",
    "\n",
    "\"Un dato es una **representación simbólica** (numérica, alfabética, algorítmica, espacial, etc.) de un atributo o variable cuantitativa o cualitativa. Los datos describen hechos empíricos, sucesos y entidades.\"\n",
    "\n",
    "Los datos de forma aislada pueden no contener información relevante para la solución/análisis de un problema. Solo cuando un conjunto de datos se examina conjuntamente a la luz de un enfoque, hipótesis o teoría se puede apreciar la información contenida en dichos datos. Los datos pueden consistir en números, estadísticos o proposiciones descriptivas. Los conceptos de datos, información, conocimientos y sabiduría están interrelacionados; se considera que los datos convenientemente agrupados, estructurados e interpretados son la base de la información humanamente relevante que se puede utilizar en la toma de decisiones, la reducción de la incertidumbre o la realización de cálculos.\n",
    "\n",
    "[fuente](https://es.wikipedia.org/wiki/Dato)\n",
    "\n",
    "\n",
    "### Ciencia de datos\n",
    "\n",
    "La ciencia de datos es un campo de estudio y práctica que se centra en obtener **información** de los datos. Mediante el uso de técnicas programación, conocimiento estadístico y técnicas de aprendizaje automático podremos tratar \"grandes\" conjuntos de datos en busca de patrones que puedan usarse para analizar el pasado o incluso predecir el futuro.\n",
    "\n",
    "Las tareas que están relacionadas con el análisis de datos son:\n",
    "\n",
    "- **Capturar datos:** extraer los datos de la base de datos de una empresa, extraerlos de un sitio web, acceder a una API, etc.\n",
    "- **Administrar datos:** almacenar correctamente los datos, y casi siempre implicará limpiar los datos.\n",
    "- **Análisis exploratorio:** realizar diferentes análisis y visualizar los datos de varias maneras para buscar patrones, preguntas y oportunidades para un estudio más profundo.\n",
    "- **Análisis final:** profundizar en los datos para responder preguntas comerciales específicas y ajustar modelos predictivos para obtener los resultados más precisos.\n",
    "- **Informes:** presentar los resultados del análisis, lo que podría incluir escribir un informe, producir visualizaciones y hacer recomendaciones basadas en los resultados del análisis. La generación de informes también puede significar conectar los resultados del análisis en un producto de datos o visualizador para que otros miembros del equipo o clientes puedan acceder fácilmente a ellos.\n",
    "\n",
    " Básicamente, estas tareas se reflejan en el siguiente flujo:\n",
    "\n",
    " ![Flujo tratamiento datos](data/flow.png)\n",
    "\n",
    "## Tecnologías\n",
    "\n",
    "La programación es una herramienta transversal que podemos utilizar en diferentes partes de nuestros proyectos. No necesitamos ser programadores expertos para poder trabajar con datos, pero es necesario tener conocimientos básicos de programación. Esto nos permitirá automatizar tareas comunes y resolver nuevos problemas con mayor facilidad y rapidez.\n",
    "\n",
    "En este curso vamos a trabajar con dos marcos tecnológicos diferentes **R** y **Python** ambos son lenguajes de programación que nos permiten trabajar con datos. **R** es considerada una herramienta muy útil en el ámbito académico mientras que **Python** es un lenguaje de propósito general, es decir, puede servirnos desde para la construcción de páginas web a sistemas de inteligencia artificial avanzados.\n",
    "\n",
    "Nos será interesante conocer ambos lenguajes porque tienen filosofías de trabajo diferentes y nos pueden ayudar en situaciones diversas.\n",
    "\n",
    "\n",
    " ![Logos R y Python](data/pythonR.png)\n",
    "\n",
    "\n",
    "\n"
   ]
  }
 ],
 "metadata": {
  "kernelspec": {
   "display_name": "Python 3.9.7 64-bit ('3.9.7')",
   "language": "python",
   "name": "python3"
  },
  "language_info": {
   "name": "python",
   "version": "3.9.7"
  },
  "orig_nbformat": 4,
  "vscode": {
   "interpreter": {
    "hash": "1dd6de46b7c7be538353ccdeaa948031a5b4d43665739a26f55ca28b247c53cc"
   }
  }
 },
 "nbformat": 4,
 "nbformat_minor": 2
}
