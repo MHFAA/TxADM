{
 "cells": [
  {
   "cell_type": "markdown",
   "metadata": {
    "pycharm": {
     "name": "#%% md\n"
    },
    "slideshow": {
     "slide_type": "slide"
    }
   },
   "source": [
    "## Gestionando la ausencia de datos\n",
    "\n",
    "Ocurre con frecuencia que disponemos de catálogos de datos donde hay muestras incompletas.\n",
    "Por ejemplo, los datos obtenidos a partir de encuestas donde se registran preguntas sin responder o sensores que no proporcionan ningún valor viable, etc.\n",
    "\n",
    "**Hay que aceptarlo y saber gestionarlo**\n",
    "\n",
    "```Pandas``` asigna el valor o el código NaN (Not a Number) a los valores desconocidos. Más especificamente, los objetos son designados como: None y las fechas como NaT.\n",
    "\n",
    "Las operaciones que involucren este tipo de datos internamente han de manejar los correspondientes códigos: NaN, None o NaT. ¿Cómo afecta un NaN a una media aritmética?\n",
    "\n",
    "En este capítulo trabajaremos con esta típología de valores.\n"
   ]
  },
  {
   "cell_type": "code",
   "execution_count": 70,
   "metadata": {},
   "outputs": [
    {
     "name": "stdout",
     "output_type": "stream",
     "text": [
      "[ 1.  2. nan  4.  5.  6. nan  8.]\n",
      "nan\n"
     ]
    }
   ],
   "source": [
    "# Y finalmente,  podemos asignar y usar nans\n",
    "import numpy as np dkfjldkhjgldkhg´lidfhg-lidshg-ldshg-ldfihgvlixj\n",
    "datos = np.array([1,2,np.nan,4,5,6,np.nan,8])\n",
    "print(datos)\n",
    "\n",
    "print(datos.mean())\n"
   ]
  },
  {
   "cell_type": "code",
   "execution_count": 1,
   "metadata": {
    "pycharm": {
     "name": "#%%\n"
    }
   },
   "outputs": [],
   "source": [
    "import pandas as pd"
   ]
  },
  {
   "cell_type": "code",
   "execution_count": 2,
   "metadata": {
    "pycharm": {
     "name": "#%%\n"
    },
    "slideshow": {
     "slide_type": "slide"
    }
   },
   "outputs": [
    {
     "name": "stdout",
     "output_type": "stream",
     "text": [
      "       Country  Urban_population_growth\n",
      "0  Afghanistan                     5.44\n",
      "1      Albania                     2.21\n",
      "2      Algeria                     2.61\n",
      "3      Andorra                      NaN\n",
      "4       Angola                     4.14\n"
     ]
    }
   ],
   "source": [
    "#Empezamos cargando datos: who.csv con 358 columnas!\n",
    "df = pd.read_csv(\"data/who.csv\")\n",
    "df = df[[\"Country\",df.columns[-2]]]\n",
    "print(df[:5])"
   ]
  },
  {
   "cell_type": "code",
   "execution_count": 66,
   "metadata": {
    "pycharm": {
     "name": "#%%\n"
    },
    "slideshow": {
     "slide_type": "fragment"
    }
   },
   "outputs": [
    {
     "name": "stdout",
     "output_type": "stream",
     "text": [
      "       Country  Urban_population_growth\n",
      "0  Afghanistan                     5.44\n",
      "1      Albania                     2.21\n",
      "2      Algeria                     2.61\n",
      "3      Andorra                      NaN\n",
      "4       Angola                     4.14\n"
     ]
    }
   ],
   "source": [
    "# Como ya sabéis através de la API se puede obtener una descripción más detallada de las posibilidades de cada método de Python, y en especial\n",
    "# de los métodos de Pandas. \n",
    "# Para cargar un fichero de tamaño elevado es recomendable cargar aquellos atributos que nos interesen desde un principio usando el argumento: usecols\n",
    "# https://pandas.pydata.org/pandas-docs/stable/reference/api/pandas.read_csv.html\n",
    "df = pd.read_csv(\"data/who.csv\", usecols=[\"Country\",\"Urban_population_growth\"])\n",
    "print(df[:5])"
   ]
  },
  {
   "cell_type": "code",
   "execution_count": 6,
   "metadata": {},
   "outputs": [
    {
     "data": {
      "text/html": [
       "<div>\n",
       "<style scoped>\n",
       "    .dataframe tbody tr th:only-of-type {\n",
       "        vertical-align: middle;\n",
       "    }\n",
       "\n",
       "    .dataframe tbody tr th {\n",
       "        vertical-align: top;\n",
       "    }\n",
       "\n",
       "    .dataframe thead th {\n",
       "        text-align: right;\n",
       "    }\n",
       "</style>\n",
       "<table border=\"1\" class=\"dataframe\">\n",
       "  <thead>\n",
       "    <tr style=\"text-align: right;\">\n",
       "      <th></th>\n",
       "      <th>Country</th>\n",
       "      <th>Urban_population_growth</th>\n",
       "    </tr>\n",
       "  </thead>\n",
       "  <tbody>\n",
       "    <tr>\n",
       "      <th>0</th>\n",
       "      <td>False</td>\n",
       "      <td>False</td>\n",
       "    </tr>\n",
       "    <tr>\n",
       "      <th>1</th>\n",
       "      <td>False</td>\n",
       "      <td>False</td>\n",
       "    </tr>\n",
       "    <tr>\n",
       "      <th>2</th>\n",
       "      <td>False</td>\n",
       "      <td>False</td>\n",
       "    </tr>\n",
       "    <tr>\n",
       "      <th>3</th>\n",
       "      <td>False</td>\n",
       "      <td>True</td>\n",
       "    </tr>\n",
       "    <tr>\n",
       "      <th>4</th>\n",
       "      <td>False</td>\n",
       "      <td>False</td>\n",
       "    </tr>\n",
       "    <tr>\n",
       "      <th>...</th>\n",
       "      <td>...</td>\n",
       "      <td>...</td>\n",
       "    </tr>\n",
       "    <tr>\n",
       "      <th>197</th>\n",
       "      <td>False</td>\n",
       "      <td>False</td>\n",
       "    </tr>\n",
       "    <tr>\n",
       "      <th>198</th>\n",
       "      <td>False</td>\n",
       "      <td>False</td>\n",
       "    </tr>\n",
       "    <tr>\n",
       "      <th>199</th>\n",
       "      <td>False</td>\n",
       "      <td>False</td>\n",
       "    </tr>\n",
       "    <tr>\n",
       "      <th>200</th>\n",
       "      <td>False</td>\n",
       "      <td>False</td>\n",
       "    </tr>\n",
       "    <tr>\n",
       "      <th>201</th>\n",
       "      <td>False</td>\n",
       "      <td>False</td>\n",
       "    </tr>\n",
       "  </tbody>\n",
       "</table>\n",
       "<p>202 rows × 2 columns</p>\n",
       "</div>"
      ],
      "text/plain": [
       "     Country  Urban_population_growth\n",
       "0      False                    False\n",
       "1      False                    False\n",
       "2      False                    False\n",
       "3      False                     True\n",
       "4      False                    False\n",
       "..       ...                      ...\n",
       "197    False                    False\n",
       "198    False                    False\n",
       "199    False                    False\n",
       "200    False                    False\n",
       "201    False                    False\n",
       "\n",
       "[202 rows x 2 columns]"
      ]
     },
     "execution_count": 6,
     "metadata": {},
     "output_type": "execute_result"
    }
   ],
   "source": [
    "# ¿Qué valor corresponde a un NA del dataframe?\n",
    "# https://pandas.pydata.org/docs/reference/api/pandas.DataFrame.isna.html\n",
    "df.isna()"
   ]
  },
  {
   "cell_type": "code",
   "execution_count": 9,
   "metadata": {
    "pycharm": {
     "name": "#%%\n"
    },
    "slideshow": {
     "slide_type": "slide"
    }
   },
   "outputs": [
    {
     "name": "stdout",
     "output_type": "stream",
     "text": [
      "Index(['Urban_population_growth'], dtype='object')\n",
      "------------------------------\n",
      "Country                    False\n",
      "Urban_population_growth     True\n",
      "dtype: bool\n"
     ]
    }
   ],
   "source": [
    "#¿Qué columnas tienen datos sin valor: NaN, NaT, None?\n",
    "# https://pandas.pydata.org/docs/reference/api/pandas.DataFrame.any.html\n",
    "\n",
    "print(df.columns[df.isna().any()])\n",
    "\n",
    "# Equivale a preguntar si ¿existe algún valor positivo dentro de esas series?\n",
    "print(\"-\"*30)\n",
    "print(df.isna().any())"
   ]
  },
  {
   "cell_type": "code",
   "execution_count": 31,
   "metadata": {
    "pycharm": {
     "name": "#%%\n"
    },
    "slideshow": {
     "slide_type": "fragment"
    }
   },
   "outputs": [
    {
     "name": "stdout",
     "output_type": "stream",
     "text": [
      "   Country  Urban_population_growth\n",
      "0    False                    False\n",
      "1    False                    False\n",
      "2    False                    False\n",
      "3    False                     True\n",
      "4    False                    False\n"
     ]
    }
   ],
   "source": [
    "#No dudéis en ejecutar \"partes\" (dividamos la instrucción para comprenderla)\n",
    "print(df.isna()[:5])"
   ]
  },
  {
   "cell_type": "code",
   "execution_count": 11,
   "metadata": {},
   "outputs": [
    {
     "data": {
      "text/plain": [
       "Country                    202\n",
       "Urban_population_growth    188\n",
       "dtype: int64"
      ]
     },
     "execution_count": 11,
     "metadata": {},
     "output_type": "execute_result"
    }
   ],
   "source": [
    "#¿Cuántas muestras son correctas? \n",
    "df.notna().sum()\n",
    "# https://pandas.pydata.org/docs/reference/api/pandas.DataFrame.notna.html\n",
    "# y de cuantas muestras?\n"
   ]
  },
  {
   "cell_type": "code",
   "execution_count": 13,
   "metadata": {},
   "outputs": [
    {
     "data": {
      "text/plain": [
       "Country                    202\n",
       "Urban_population_growth    188\n",
       "dtype: int64"
      ]
     },
     "execution_count": 13,
     "metadata": {},
     "output_type": "execute_result"
    }
   ],
   "source": [
    "df.notnull().sum() #ambas funcionas son equivalentes en Pandas, no en numpy"
   ]
  },
  {
   "cell_type": "markdown",
   "metadata": {},
   "source": [
    "### Tratando la ausencia de datos\n",
    "- Ignorando: \"Hay X muestras válidas de tantas\"\n",
    "- Rellenando: reemplazar muestras desconocidas por otros valores: media, valor neutro, etc."
   ]
  },
  {
   "cell_type": "code",
   "execution_count": 39,
   "metadata": {
    "pycharm": {
     "name": "#%%\n"
    },
    "slideshow": {
     "slide_type": "slide"
    }
   },
   "outputs": [
    {
     "name": "stdout",
     "output_type": "stream",
     "text": [
      "       Country  Urban_population_growth\n",
      "0  Afghanistan                     5.44\n",
      "1      Albania                     2.21\n",
      "2      Algeria                     2.61\n",
      "3      Andorra                     0.00\n",
      "4       Angola                     4.14\n"
     ]
    }
   ],
   "source": [
    "#La manera más optima de remplazar estos valores es con la función: fillna\n",
    "print(df.fillna(0)[:5])\n"
   ]
  },
  {
   "cell_type": "code",
   "execution_count": 14,
   "metadata": {
    "pycharm": {
     "name": "#%%\n"
    },
    "slideshow": {
     "slide_type": "fragment"
    }
   },
   "outputs": [],
   "source": [
    "# Si queremos que nuestra variable de dataframe contenga dichas asignaciones recordad asignar la operación a la variable pertinente o a una nueva\n",
    "df = df.fillna(0) "
   ]
  },
  {
   "cell_type": "markdown",
   "metadata": {
    "pycharm": {
     "name": "#%% md\n"
    },
    "slideshow": {
     "slide_type": "slide"
    }
   },
   "source": [
    "### Maneras de rellenar una serie con datos NA\n",
    "\n",
    "Cuando los dataframes contienen números la operabildad con valores perdidos puede gestionarse de manera más eficiente. Pongamos un ejemplo:"
   ]
  },
  {
   "cell_type": "code",
   "execution_count": 19,
   "metadata": {
    "pycharm": {
     "name": "#%%\n"
    },
    "slideshow": {
     "slide_type": "slide"
    }
   },
   "outputs": [
    {
     "name": "stdout",
     "output_type": "stream",
     "text": [
      "        one       two     three\n",
      "a  0.883893  0.195865  0.357537\n",
      "b -2.343262 -1.084833  0.559696\n",
      "c  0.939469 -0.978481  0.503097\n",
      "d  0.406414  0.323461 -0.493411\n",
      "e -0.792017 -0.842368 -1.279503\n"
     ]
    }
   ],
   "source": [
    "import numpy as np\n",
    "\n",
    "np.random.seed(20)\n",
    "\n",
    "#Creamos un dataframe \n",
    "df = pd.DataFrame(np.random.randn(5, 3), \n",
    "                     index=['a', 'b', 'c', 'd', 'e'],\n",
    "                     columns=['one', 'two', 'three'])\n",
    "print(df)"
   ]
  },
  {
   "cell_type": "code",
   "execution_count": 20,
   "metadata": {
    "pycharm": {
     "name": "#%%\n"
    },
    "slideshow": {
     "slide_type": "slide"
    }
   },
   "outputs": [
    {
     "name": "stdout",
     "output_type": "stream",
     "text": [
      "        one       two     three\n",
      "a  0.883893  0.195865  0.357537\n",
      "b -2.343262       NaN  0.559696\n",
      "c  0.939469       NaN  0.503097\n",
      "d  0.406414  0.323461 -0.493411\n",
      "e -0.792017       NaN -1.279503\n"
     ]
    }
   ],
   "source": [
    "#Creamos valores NaN para testear \n",
    "df.two[df.two<0]=np.nan\n",
    "print(df)"
   ]
  },
  {
   "cell_type": "markdown",
   "metadata": {
    "pycharm": {
     "name": "#%% md\n"
    },
    "slideshow": {
     "slide_type": "slide"
    }
   },
   "source": [
    "Podemos usar ```fillna``` para rellenar de diversas maneras la serie o series. Por ejemplo, usando una operación de agregación como la media"
   ]
  },
  {
   "cell_type": "code",
   "execution_count": 21,
   "metadata": {
    "pycharm": {
     "name": "#%%\n"
    }
   },
   "outputs": [
    {
     "name": "stdout",
     "output_type": "stream",
     "text": [
      "        one       two     three\n",
      "a  0.883893  0.195865  0.357537\n",
      "b -2.343262       NaN  0.559696\n",
      "c  0.939469       NaN  0.503097\n",
      "d  0.406414  0.323461 -0.493411\n",
      "e -0.792017       NaN -1.279503\n",
      "---------------------------------\n",
      "        one       two     three\n",
      "a  0.883893  0.195865  0.357537\n",
      "b -2.343262  0.259663  0.559696\n",
      "c  0.939469  0.259663  0.503097\n",
      "d  0.406414  0.323461 -0.493411\n",
      "e -0.792017  0.259663 -1.279503\n"
     ]
    }
   ],
   "source": [
    "print(df)\n",
    "print(\"-\"*33)\n",
    "print(df.fillna(df.mean()))"
   ]
  },
  {
   "cell_type": "code",
   "execution_count": 30,
   "metadata": {
    "pycharm": {
     "name": "#%%\n"
    }
   },
   "outputs": [
    {
     "name": "stdout",
     "output_type": "stream",
     "text": [
      "        one       two     three\n",
      "a  0.883893  0.195865  0.357537\n",
      "b -2.343262      HOLA  0.559696\n",
      "c  0.939469      HOLA  0.503097\n",
      "d  0.406414  0.323461 -0.493411\n",
      "e -0.792017      HOLA -1.279503\n",
      "---------------------------------\n",
      "        one       two     three\n",
      "a  0.883893  0.195865  0.357537\n",
      "b -2.343262  0.883893  0.559696\n",
      "c  0.939469  0.883893  0.503097\n",
      "d  0.406414  0.323461 -0.493411\n",
      "e -0.792017  0.883893 -1.279503\n"
     ]
    }
   ],
   "source": [
    "#Con un valor en concreto del propio dataframe\n",
    "print(df.fillna(\"HOLA\"))\n",
    "print(\"-\"*33)\n",
    "print(df.fillna(df.loc[\"a\", [\"one\"]].values[0]))"
   ]
  },
  {
   "cell_type": "markdown",
   "metadata": {
    "pycharm": {
     "name": "#%% md\n"
    },
    "slideshow": {
     "slide_type": "slide"
    }
   },
   "source": [
    "#### Podemos rellenar con datos interpolados\n",
    "\n",
    "En la documentación vemos una serie de ejemplos: [Interpolate](https://pandas.pydata.org/pandas-docs/stable/reference/api/pandas.Series.interpolate.html)"
   ]
  },
  {
   "cell_type": "code",
   "execution_count": 38,
   "metadata": {
    "pycharm": {
     "name": "#%%\n"
    }
   },
   "outputs": [
    {
     "name": "stdout",
     "output_type": "stream",
     "text": [
      "        one       two     three\n",
      "a  0.883893  0.195865  0.357537\n",
      "b -2.343262       NaN  0.559696\n",
      "c  0.939469       NaN  0.503097\n",
      "d  0.406414  0.323461 -0.493411\n",
      "e -0.792017       NaN -1.279503\n",
      "-----------------------------------\n",
      "        one       two     three\n",
      "a  0.883893  0.195865  0.357537\n",
      "b -2.343262  0.238397  0.559696\n",
      "c  0.939469  0.280929  0.503097\n",
      "d  0.406414  0.323461 -0.493411\n",
      "e -0.792017  0.323461 -1.279503\n"
     ]
    }
   ],
   "source": [
    "print(df)\n",
    "print(\"-\"*35)\n",
    "print(df.interpolate())"
   ]
  },
  {
   "cell_type": "code",
   "execution_count": 53,
   "metadata": {},
   "outputs": [
    {
     "name": "stdout",
     "output_type": "stream",
     "text": [
      "        one       two     three\n",
      "a  0.883893  0.195865  0.357537\n",
      "b -2.343262 -0.891783  0.559696\n",
      "c  0.939469  0.721283  0.503097\n",
      "d  0.406414  0.323461 -0.493411\n",
      "e -0.792017 -1.035760 -1.279503\n",
      "----------------------------------------------------------------------\n",
      "-0.8917828081181468\n"
     ]
    }
   ],
   "source": [
    "print(df.interpolate(axis=1)) # Tomemos como referencia el valor NA de (b,\"two\")\n",
    "print(\"--\"*35)\n",
    "print(df.mean(axis=1).b)"
   ]
  },
  {
   "cell_type": "code",
   "execution_count": 62,
   "metadata": {},
   "outputs": [
    {
     "name": "stdout",
     "output_type": "stream",
     "text": [
      "0    0.195865\n",
      "1    0.195865\n",
      "2    0.195865\n",
      "3    0.323461\n",
      "4    0.323461\n",
      "Name: two, dtype: float64\n"
     ]
    }
   ],
   "source": [
    "# Para usar otro tipo de interpolaciones es recomendable tener un índice numérico por cuestiones de frecuencia en el método de interpolación\n",
    "df.index = range(len(df))\n",
    "print(df.two.interpolate(method=\"pad\"))"
   ]
  },
  {
   "cell_type": "code",
   "execution_count": 63,
   "metadata": {},
   "outputs": [
    {
     "name": "stdout",
     "output_type": "stream",
     "text": [
      "0    0.195865\n",
      "1    0.195865\n",
      "2    0.323461\n",
      "3    0.323461\n",
      "4         NaN\n",
      "Name: two, dtype: float64\n"
     ]
    }
   ],
   "source": [
    "print(df.two.interpolate(method=\"nearest\"))"
   ]
  },
  {
   "cell_type": "code",
   "execution_count": 64,
   "metadata": {
    "pycharm": {
     "name": "#%%\n"
    }
   },
   "outputs": [
    {
     "name": "stdout",
     "output_type": "stream",
     "text": [
      "Valores interpolados:3\n"
     ]
    }
   ],
   "source": [
    "print(\"Valores interpolados:\" + str(df.two.interpolate().count()-df.two.count()))"
   ]
  },
  {
   "cell_type": "markdown",
   "metadata": {
    "pycharm": {
     "name": "#%% md\n"
    },
    "slideshow": {
     "slide_type": "slide"
    }
   },
   "source": [
    "### Eliminación de valores NA\n",
    "\n",
    "Existen operaciones para la eliminación de valores NA"
   ]
  },
  {
   "cell_type": "code",
   "execution_count": 31,
   "metadata": {
    "pycharm": {
     "name": "#%%\n"
    }
   },
   "outputs": [
    {
     "name": "stdout",
     "output_type": "stream",
     "text": [
      "        one       two     three\n",
      "a  0.883893  0.195865  0.357537\n",
      "b -2.343262       NaN  0.559696\n",
      "c  0.939469       NaN  0.503097\n",
      "d  0.406414  0.323461 -0.493411\n",
      "e -0.792017       NaN -1.279503\n",
      "-----------------------------------\n",
      "        one       two     three\n",
      "a  0.883893  0.195865  0.357537\n",
      "d  0.406414  0.323461 -0.493411\n"
     ]
    }
   ],
   "source": [
    "print(df)\n",
    "print(\"-\"*35)\n",
    "print(df.dropna())\n",
    "\n",
    "# https://pandas.pydata.org/docs/reference/api/pandas.DataFrame.dropna.html"
   ]
  },
  {
   "cell_type": "code",
   "execution_count": 32,
   "metadata": {
    "pycharm": {
     "name": "#%%\n"
    },
    "slideshow": {
     "slide_type": "slide"
    }
   },
   "outputs": [
    {
     "data": {
      "text/html": [
       "<div>\n",
       "<style scoped>\n",
       "    .dataframe tbody tr th:only-of-type {\n",
       "        vertical-align: middle;\n",
       "    }\n",
       "\n",
       "    .dataframe tbody tr th {\n",
       "        vertical-align: top;\n",
       "    }\n",
       "\n",
       "    .dataframe thead th {\n",
       "        text-align: right;\n",
       "    }\n",
       "</style>\n",
       "<table border=\"1\" class=\"dataframe\">\n",
       "  <thead>\n",
       "    <tr style=\"text-align: right;\">\n",
       "      <th></th>\n",
       "      <th>one</th>\n",
       "      <th>three</th>\n",
       "    </tr>\n",
       "  </thead>\n",
       "  <tbody>\n",
       "    <tr>\n",
       "      <th>a</th>\n",
       "      <td>0.883893</td>\n",
       "      <td>0.357537</td>\n",
       "    </tr>\n",
       "    <tr>\n",
       "      <th>b</th>\n",
       "      <td>-2.343262</td>\n",
       "      <td>0.559696</td>\n",
       "    </tr>\n",
       "    <tr>\n",
       "      <th>c</th>\n",
       "      <td>0.939469</td>\n",
       "      <td>0.503097</td>\n",
       "    </tr>\n",
       "    <tr>\n",
       "      <th>d</th>\n",
       "      <td>0.406414</td>\n",
       "      <td>-0.493411</td>\n",
       "    </tr>\n",
       "    <tr>\n",
       "      <th>e</th>\n",
       "      <td>-0.792017</td>\n",
       "      <td>-1.279503</td>\n",
       "    </tr>\n",
       "  </tbody>\n",
       "</table>\n",
       "</div>"
      ],
      "text/plain": [
       "        one     three\n",
       "a  0.883893  0.357537\n",
       "b -2.343262  0.559696\n",
       "c  0.939469  0.503097\n",
       "d  0.406414 -0.493411\n",
       "e -0.792017 -1.279503"
      ]
     },
     "execution_count": 32,
     "metadata": {},
     "output_type": "execute_result"
    }
   ],
   "source": [
    "#O bien, podemos borrar cambiando el eje AXIS=0 o 1\n",
    "df.dropna(axis=1)"
   ]
  },
  {
   "cell_type": "code",
   "execution_count": 36,
   "metadata": {},
   "outputs": [
    {
     "name": "stdout",
     "output_type": "stream",
     "text": [
      "one     -0.181100\n",
      "two      0.259663\n",
      "three   -0.070517\n",
      "dtype: float64\n",
      "-----------------------------------\n",
      "a    0.479098\n",
      "b   -0.891783\n",
      "c    0.721283\n",
      "d    0.078822\n",
      "e   -1.035760\n",
      "dtype: float64\n"
     ]
    }
   ],
   "source": [
    "# el argumento AXIS está en un gran número de métodos de Pandas\n",
    "print(df.mean()) # y por defecto, suele ser axis=0 (considerar las columnas ejeX)\n",
    "print(\"-\"*35)\n",
    "print(df.mean(axis=1))"
   ]
  },
  {
   "cell_type": "markdown",
   "metadata": {
    "pycharm": {
     "name": "#%% md\n"
    },
    "slideshow": {
     "slide_type": "slide"
    }
   },
   "source": [
    "### Ejercicios"
   ]
  },
  {
   "cell_type": "markdown",
   "metadata": {
    "pycharm": {
     "name": "#%% md\n"
    }
   },
   "source": [
    "**1) Del fichero who.csv, contabiliza cuántos paises tienen algun valor NaN.**"
   ]
  },
  {
   "cell_type": "code",
   "execution_count": null,
   "metadata": {
    "collapsed": true,
    "pycharm": {
     "name": "#%%\n"
    }
   },
   "outputs": [],
   "source": []
  },
  {
   "cell_type": "markdown",
   "metadata": {
    "pycharm": {
     "name": "#%% md\n"
    }
   },
   "source": [
    "**1b) Ordena el anterior resultado para identificar cuál es el pais con mayor número de campos desconocidos.**"
   ]
  },
  {
   "cell_type": "code",
   "execution_count": null,
   "metadata": {
    "collapsed": true,
    "pycharm": {
     "name": "#%%\n"
    }
   },
   "outputs": [],
   "source": []
  },
  {
   "cell_type": "markdown",
   "metadata": {
    "pycharm": {
     "name": "#%% md\n"
    },
    "slideshow": {
     "slide_type": "-"
    }
   },
   "source": [
    "**2) who.csv, Selecciona la primera, tercera y decima columna, de las filas comprendidas entre la 100 y la 150.**"
   ]
  },
  {
   "cell_type": "code",
   "execution_count": null,
   "metadata": {
    "collapsed": true,
    "pycharm": {
     "name": "#%%\n"
    }
   },
   "outputs": [],
   "source": []
  },
  {
   "cell_type": "markdown",
   "metadata": {
    "pycharm": {
     "name": "#%% md\n"
    }
   },
   "source": [
    "**2b) ¿Cuántos valores NaN hay presentes?**"
   ]
  },
  {
   "cell_type": "code",
   "execution_count": null,
   "metadata": {
    "collapsed": true,
    "pycharm": {
     "name": "#%%\n"
    }
   },
   "outputs": [],
   "source": []
  },
  {
   "cell_type": "markdown",
   "metadata": {
    "pycharm": {
     "name": "#%% md\n"
    }
   },
   "source": [
    "**2c) Crea un nuevo dataframe donde los NaN sean cero.**"
   ]
  },
  {
   "cell_type": "code",
   "execution_count": null,
   "metadata": {
    "collapsed": true,
    "pycharm": {
     "name": "#%%\n"
    }
   },
   "outputs": [],
   "source": []
  },
  {
   "cell_type": "markdown",
   "metadata": {
    "pycharm": {
     "name": "#%% md\n"
    }
   },
   "source": [
    "**2d) Elimina aquellas filas de la anterior selección donde haya NaN.**"
   ]
  },
  {
   "cell_type": "code",
   "execution_count": null,
   "metadata": {
    "collapsed": true,
    "pycharm": {
     "name": "#%%\n"
    }
   },
   "outputs": [],
   "source": []
  }
 ],
 "metadata": {
  "celltoolbar": "Slideshow",
  "kernelspec": {
   "display_name": "Python 3.9.7 64-bit ('my397')",
   "language": "python",
   "name": "python3"
  },
  "language_info": {
   "codemirror_mode": {
    "name": "ipython",
    "version": 3
   },
   "file_extension": ".py",
   "mimetype": "text/x-python",
   "name": "python",
   "nbconvert_exporter": "python",
   "pygments_lexer": "ipython3",
   "version": "3.9.7"
  },
  "vscode": {
   "interpreter": {
    "hash": "8b38137d60f5ef6101ebd11fd805c6415d52a5c999d13278488bced8392256b3"
   }
  }
 },
 "nbformat": 4,
 "nbformat_minor": 1
}
